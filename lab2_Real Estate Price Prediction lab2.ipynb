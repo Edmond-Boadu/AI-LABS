{
 "cells": [
  {
   "cell_type": "markdown",
   "metadata": {
    "id": "3THwmsMnC4kE"
   },
   "source": [
    "# Lab2: Predicting Real Estate House Prices"
   ]
  },
  {
   "cell_type": "markdown",
   "metadata": {
    "id": "mI6lYJ0RC4kL"
   },
   "source": [
    "## This task is provided to test your understanding of building a Linear Regression model for a provided dataset"
   ]
  },
  {
   "cell_type": "markdown",
   "metadata": {
    "id": "e8Bj7_9-C4kM"
   },
   "source": [
    "### Dataset: Real_estate.csv"
   ]
  },
  {
   "cell_type": "markdown",
   "metadata": {
    "id": "Pf621ZUCC4kN"
   },
   "source": [
    "### Import the necessary libraries\n",
    "#### Hint: Also import seaborn"
   ]
  },
  {
   "cell_type": "code",
   "execution_count": 1,
   "metadata": {
    "id": "_sLPyWAOC4kO"
   },
   "outputs": [],
   "source": [
    "#importing the necessary libraries for the work\n",
    "import pandas as pd\n",
    "import numpy as np\n",
    "import matplotlib.pyplot as plt\n",
    "import seaborn as sns"
   ]
  },
  {
   "cell_type": "markdown",
   "metadata": {
    "id": "OQSK59B7C4kP"
   },
   "source": [
    "### Read the csv data into a pandas dataframe and display the first 5 samples"
   ]
  },
  {
   "cell_type": "code",
   "execution_count": 2,
   "metadata": {
    "id": "L7kumr2nC4kQ"
   },
   "outputs": [
    {
     "data": {
      "text/html": [
       "<div>\n",
       "<style scoped>\n",
       "    .dataframe tbody tr th:only-of-type {\n",
       "        vertical-align: middle;\n",
       "    }\n",
       "\n",
       "    .dataframe tbody tr th {\n",
       "        vertical-align: top;\n",
       "    }\n",
       "\n",
       "    .dataframe thead th {\n",
       "        text-align: right;\n",
       "    }\n",
       "</style>\n",
       "<table border=\"1\" class=\"dataframe\">\n",
       "  <thead>\n",
       "    <tr style=\"text-align: right;\">\n",
       "      <th></th>\n",
       "      <th>No</th>\n",
       "      <th>X1 transaction date</th>\n",
       "      <th>X2 house age</th>\n",
       "      <th>X3 distance to the nearest MRT station</th>\n",
       "      <th>X4 number of convenience stores</th>\n",
       "      <th>X5 latitude</th>\n",
       "      <th>X6 longitude</th>\n",
       "      <th>Y house price of unit area</th>\n",
       "    </tr>\n",
       "  </thead>\n",
       "  <tbody>\n",
       "    <tr>\n",
       "      <td>0</td>\n",
       "      <td>1</td>\n",
       "      <td>2012.917</td>\n",
       "      <td>32.0</td>\n",
       "      <td>84.87882</td>\n",
       "      <td>10</td>\n",
       "      <td>24.98298</td>\n",
       "      <td>121.54024</td>\n",
       "      <td>37.9</td>\n",
       "    </tr>\n",
       "    <tr>\n",
       "      <td>1</td>\n",
       "      <td>2</td>\n",
       "      <td>2012.917</td>\n",
       "      <td>19.5</td>\n",
       "      <td>306.59470</td>\n",
       "      <td>9</td>\n",
       "      <td>24.98034</td>\n",
       "      <td>121.53951</td>\n",
       "      <td>42.2</td>\n",
       "    </tr>\n",
       "    <tr>\n",
       "      <td>2</td>\n",
       "      <td>3</td>\n",
       "      <td>2013.583</td>\n",
       "      <td>13.3</td>\n",
       "      <td>561.98450</td>\n",
       "      <td>5</td>\n",
       "      <td>24.98746</td>\n",
       "      <td>121.54391</td>\n",
       "      <td>47.3</td>\n",
       "    </tr>\n",
       "    <tr>\n",
       "      <td>3</td>\n",
       "      <td>4</td>\n",
       "      <td>2013.500</td>\n",
       "      <td>13.3</td>\n",
       "      <td>561.98450</td>\n",
       "      <td>5</td>\n",
       "      <td>24.98746</td>\n",
       "      <td>121.54391</td>\n",
       "      <td>54.8</td>\n",
       "    </tr>\n",
       "    <tr>\n",
       "      <td>4</td>\n",
       "      <td>5</td>\n",
       "      <td>2012.833</td>\n",
       "      <td>5.0</td>\n",
       "      <td>390.56840</td>\n",
       "      <td>5</td>\n",
       "      <td>24.97937</td>\n",
       "      <td>121.54245</td>\n",
       "      <td>43.1</td>\n",
       "    </tr>\n",
       "  </tbody>\n",
       "</table>\n",
       "</div>"
      ],
      "text/plain": [
       "   No  X1 transaction date  X2 house age  \\\n",
       "0   1             2012.917          32.0   \n",
       "1   2             2012.917          19.5   \n",
       "2   3             2013.583          13.3   \n",
       "3   4             2013.500          13.3   \n",
       "4   5             2012.833           5.0   \n",
       "\n",
       "   X3 distance to the nearest MRT station  X4 number of convenience stores  \\\n",
       "0                                84.87882                               10   \n",
       "1                               306.59470                                9   \n",
       "2                               561.98450                                5   \n",
       "3                               561.98450                                5   \n",
       "4                               390.56840                                5   \n",
       "\n",
       "   X5 latitude  X6 longitude  Y house price of unit area  \n",
       "0     24.98298     121.54024                        37.9  \n",
       "1     24.98034     121.53951                        42.2  \n",
       "2     24.98746     121.54391                        47.3  \n",
       "3     24.98746     121.54391                        54.8  \n",
       "4     24.97937     121.54245                        43.1  "
      ]
     },
     "execution_count": 2,
     "metadata": {},
     "output_type": "execute_result"
    }
   ],
   "source": [
    "#Reading the dataset into pandas\n",
    "df=pd.read_csv('Real estate.csv')\n",
    "df.head(5)\n"
   ]
  },
  {
   "cell_type": "markdown",
   "metadata": {
    "id": "2azgrK1eC4kQ"
   },
   "source": [
    "### Show more information about the dataset"
   ]
  },
  {
   "cell_type": "code",
   "execution_count": 4,
   "metadata": {
    "id": "twT10qiZC4kR"
   },
   "outputs": [
    {
     "name": "stdout",
     "output_type": "stream",
     "text": [
      "<class 'pandas.core.frame.DataFrame'>\n",
      "RangeIndex: 414 entries, 0 to 413\n",
      "Data columns (total 8 columns):\n",
      "No                                        414 non-null int64\n",
      "X1 transaction date                       414 non-null float64\n",
      "X2 house age                              414 non-null float64\n",
      "X3 distance to the nearest MRT station    414 non-null float64\n",
      "X4 number of convenience stores           414 non-null int64\n",
      "X5 latitude                               414 non-null float64\n",
      "X6 longitude                              414 non-null float64\n",
      "Y house price of unit area                414 non-null float64\n",
      "dtypes: float64(6), int64(2)\n",
      "memory usage: 26.0 KB\n"
     ]
    }
   ],
   "source": [
    "#information of the data\n",
    "df.info()"
   ]
  },
  {
   "cell_type": "markdown",
   "metadata": {
    "id": "BVLAZbR1C4kS"
   },
   "source": [
    "### Find how many samples are there and how many columns are there in the dataset"
   ]
  },
  {
   "cell_type": "code",
   "execution_count": 6,
   "metadata": {
    "id": "hGCT-x9zC4kT"
   },
   "outputs": [
    {
     "name": "stdout",
     "output_type": "stream",
     "text": [
      "Number of Rows: 414\n",
      "Number of Columns: 8\n"
     ]
    }
   ],
   "source": [
    "#number of sample in the data\n",
    "rows = len(df.axes[0])\n",
    "cols = len(df.axes[1])\n",
    "print(\"Number of Rows: \" + str(rows))\n",
    "print(\"Number of Columns: \" + str(cols))"
   ]
  },
  {
   "cell_type": "markdown",
   "metadata": {
    "id": "UDNp_qRjC4kT"
   },
   "source": [
    "### What are the features available in the dataset?"
   ]
  },
  {
   "cell_type": "code",
   "execution_count": 6,
   "metadata": {
    "id": "f-lxpZcLC4kU"
   },
   "outputs": [
    {
     "data": {
      "text/plain": [
       "Index(['No', 'X1 transaction date', 'X2 house age',\n",
       "       'X3 distance to the nearest MRT station',\n",
       "       'X4 number of convenience stores', 'X5 latitude', 'X6 longitude',\n",
       "       'Y house price of unit area'],\n",
       "      dtype='object')"
      ]
     },
     "execution_count": 6,
     "metadata": {},
     "output_type": "execute_result"
    }
   ],
   "source": [
    "#features in the data\n",
    "features = df.columns\n",
    "features"
   ]
  },
  {
   "cell_type": "markdown",
   "metadata": {
    "id": "uG-R-KMFC4kU"
   },
   "source": [
    "### Check if any features have missing data"
   ]
  },
  {
   "cell_type": "code",
   "execution_count": 7,
   "metadata": {
    "executionInfo": {
     "elapsed": 593,
     "status": "ok",
     "timestamp": 1645353555394,
     "user": {
      "displayName": "Jacob Akwesi Sawalbil",
      "photoUrl": "https://lh3.googleusercontent.com/a-/AOh14Gj5H9FeI5RviMRbFa05vVBA2C3VfogF5AFBgN4XTA=s64",
      "userId": "08067257313357528137"
     },
     "user_tz": 480
    },
    "id": "f_4y-x8FC4kV"
   },
   "outputs": [
    {
     "data": {
      "text/plain": [
       "array([False, False, False, False, False, False, False, False])"
      ]
     },
     "execution_count": 7,
     "metadata": {},
     "output_type": "execute_result"
    }
   ],
   "source": [
    "#features with missing data\n",
    "features.isna()"
   ]
  },
  {
   "cell_type": "markdown",
   "metadata": {
    "id": "xJVAyNtGC4kV"
   },
   "source": [
    "### Group all the features as dependent features in X"
   ]
  },
  {
   "cell_type": "code",
   "execution_count": 9,
   "metadata": {
    "id": "LVoMY29zC4kW"
   },
   "outputs": [
    {
     "data": {
      "text/html": [
       "<div>\n",
       "<style scoped>\n",
       "    .dataframe tbody tr th:only-of-type {\n",
       "        vertical-align: middle;\n",
       "    }\n",
       "\n",
       "    .dataframe tbody tr th {\n",
       "        vertical-align: top;\n",
       "    }\n",
       "\n",
       "    .dataframe thead th {\n",
       "        text-align: right;\n",
       "    }\n",
       "</style>\n",
       "<table border=\"1\" class=\"dataframe\">\n",
       "  <thead>\n",
       "    <tr style=\"text-align: right;\">\n",
       "      <th></th>\n",
       "      <th>X1 transaction date</th>\n",
       "      <th>X2 house age</th>\n",
       "      <th>X3 distance to the nearest MRT station</th>\n",
       "      <th>X4 number of convenience stores</th>\n",
       "      <th>X5 latitude</th>\n",
       "      <th>X6 longitude</th>\n",
       "    </tr>\n",
       "  </thead>\n",
       "  <tbody>\n",
       "    <tr>\n",
       "      <td>0</td>\n",
       "      <td>2012.917</td>\n",
       "      <td>32.0</td>\n",
       "      <td>84.87882</td>\n",
       "      <td>10</td>\n",
       "      <td>24.98298</td>\n",
       "      <td>121.54024</td>\n",
       "    </tr>\n",
       "    <tr>\n",
       "      <td>1</td>\n",
       "      <td>2012.917</td>\n",
       "      <td>19.5</td>\n",
       "      <td>306.59470</td>\n",
       "      <td>9</td>\n",
       "      <td>24.98034</td>\n",
       "      <td>121.53951</td>\n",
       "    </tr>\n",
       "    <tr>\n",
       "      <td>2</td>\n",
       "      <td>2013.583</td>\n",
       "      <td>13.3</td>\n",
       "      <td>561.98450</td>\n",
       "      <td>5</td>\n",
       "      <td>24.98746</td>\n",
       "      <td>121.54391</td>\n",
       "    </tr>\n",
       "    <tr>\n",
       "      <td>3</td>\n",
       "      <td>2013.500</td>\n",
       "      <td>13.3</td>\n",
       "      <td>561.98450</td>\n",
       "      <td>5</td>\n",
       "      <td>24.98746</td>\n",
       "      <td>121.54391</td>\n",
       "    </tr>\n",
       "    <tr>\n",
       "      <td>4</td>\n",
       "      <td>2012.833</td>\n",
       "      <td>5.0</td>\n",
       "      <td>390.56840</td>\n",
       "      <td>5</td>\n",
       "      <td>24.97937</td>\n",
       "      <td>121.54245</td>\n",
       "    </tr>\n",
       "    <tr>\n",
       "      <td>...</td>\n",
       "      <td>...</td>\n",
       "      <td>...</td>\n",
       "      <td>...</td>\n",
       "      <td>...</td>\n",
       "      <td>...</td>\n",
       "      <td>...</td>\n",
       "    </tr>\n",
       "    <tr>\n",
       "      <td>409</td>\n",
       "      <td>2013.000</td>\n",
       "      <td>13.7</td>\n",
       "      <td>4082.01500</td>\n",
       "      <td>0</td>\n",
       "      <td>24.94155</td>\n",
       "      <td>121.50381</td>\n",
       "    </tr>\n",
       "    <tr>\n",
       "      <td>410</td>\n",
       "      <td>2012.667</td>\n",
       "      <td>5.6</td>\n",
       "      <td>90.45606</td>\n",
       "      <td>9</td>\n",
       "      <td>24.97433</td>\n",
       "      <td>121.54310</td>\n",
       "    </tr>\n",
       "    <tr>\n",
       "      <td>411</td>\n",
       "      <td>2013.250</td>\n",
       "      <td>18.8</td>\n",
       "      <td>390.96960</td>\n",
       "      <td>7</td>\n",
       "      <td>24.97923</td>\n",
       "      <td>121.53986</td>\n",
       "    </tr>\n",
       "    <tr>\n",
       "      <td>412</td>\n",
       "      <td>2013.000</td>\n",
       "      <td>8.1</td>\n",
       "      <td>104.81010</td>\n",
       "      <td>5</td>\n",
       "      <td>24.96674</td>\n",
       "      <td>121.54067</td>\n",
       "    </tr>\n",
       "    <tr>\n",
       "      <td>413</td>\n",
       "      <td>2013.500</td>\n",
       "      <td>6.5</td>\n",
       "      <td>90.45606</td>\n",
       "      <td>9</td>\n",
       "      <td>24.97433</td>\n",
       "      <td>121.54310</td>\n",
       "    </tr>\n",
       "  </tbody>\n",
       "</table>\n",
       "<p>414 rows × 6 columns</p>\n",
       "</div>"
      ],
      "text/plain": [
       "     X1 transaction date  X2 house age  \\\n",
       "0               2012.917          32.0   \n",
       "1               2012.917          19.5   \n",
       "2               2013.583          13.3   \n",
       "3               2013.500          13.3   \n",
       "4               2012.833           5.0   \n",
       "..                   ...           ...   \n",
       "409             2013.000          13.7   \n",
       "410             2012.667           5.6   \n",
       "411             2013.250          18.8   \n",
       "412             2013.000           8.1   \n",
       "413             2013.500           6.5   \n",
       "\n",
       "     X3 distance to the nearest MRT station  X4 number of convenience stores  \\\n",
       "0                                  84.87882                               10   \n",
       "1                                 306.59470                                9   \n",
       "2                                 561.98450                                5   \n",
       "3                                 561.98450                                5   \n",
       "4                                 390.56840                                5   \n",
       "..                                      ...                              ...   \n",
       "409                              4082.01500                                0   \n",
       "410                                90.45606                                9   \n",
       "411                               390.96960                                7   \n",
       "412                               104.81010                                5   \n",
       "413                                90.45606                                9   \n",
       "\n",
       "     X5 latitude  X6 longitude  \n",
       "0       24.98298     121.54024  \n",
       "1       24.98034     121.53951  \n",
       "2       24.98746     121.54391  \n",
       "3       24.98746     121.54391  \n",
       "4       24.97937     121.54245  \n",
       "..           ...           ...  \n",
       "409     24.94155     121.50381  \n",
       "410     24.97433     121.54310  \n",
       "411     24.97923     121.53986  \n",
       "412     24.96674     121.54067  \n",
       "413     24.97433     121.54310  \n",
       "\n",
       "[414 rows x 6 columns]"
      ]
     },
     "execution_count": 9,
     "metadata": {},
     "output_type": "execute_result"
    }
   ],
   "source": [
    "#dependent features in x\n",
    "X = df.loc[:,['X1 transaction date','X2 house age','X3 distance to the nearest MRT station','X4 number of convenience stores','X5 latitude','X6 longitude']]\n",
    "X"
   ]
  },
  {
   "cell_type": "markdown",
   "metadata": {
    "id": "91-9UppeC4kW"
   },
   "source": [
    "### Group feature(s) as independent features in y"
   ]
  },
  {
   "cell_type": "code",
   "execution_count": 12,
   "metadata": {
    "id": "JDmQeLSsC4kX"
   },
   "outputs": [
    {
     "data": {
      "text/html": [
       "<div>\n",
       "<style scoped>\n",
       "    .dataframe tbody tr th:only-of-type {\n",
       "        vertical-align: middle;\n",
       "    }\n",
       "\n",
       "    .dataframe tbody tr th {\n",
       "        vertical-align: top;\n",
       "    }\n",
       "\n",
       "    .dataframe thead th {\n",
       "        text-align: right;\n",
       "    }\n",
       "</style>\n",
       "<table border=\"1\" class=\"dataframe\">\n",
       "  <thead>\n",
       "    <tr style=\"text-align: right;\">\n",
       "      <th></th>\n",
       "      <th>index</th>\n",
       "      <th>Y house price of unit area</th>\n",
       "    </tr>\n",
       "  </thead>\n",
       "  <tbody>\n",
       "    <tr>\n",
       "      <td>0</td>\n",
       "      <td>0</td>\n",
       "      <td>37.9</td>\n",
       "    </tr>\n",
       "    <tr>\n",
       "      <td>1</td>\n",
       "      <td>1</td>\n",
       "      <td>42.2</td>\n",
       "    </tr>\n",
       "    <tr>\n",
       "      <td>2</td>\n",
       "      <td>2</td>\n",
       "      <td>47.3</td>\n",
       "    </tr>\n",
       "    <tr>\n",
       "      <td>3</td>\n",
       "      <td>3</td>\n",
       "      <td>54.8</td>\n",
       "    </tr>\n",
       "    <tr>\n",
       "      <td>4</td>\n",
       "      <td>4</td>\n",
       "      <td>43.1</td>\n",
       "    </tr>\n",
       "    <tr>\n",
       "      <td>...</td>\n",
       "      <td>...</td>\n",
       "      <td>...</td>\n",
       "    </tr>\n",
       "    <tr>\n",
       "      <td>409</td>\n",
       "      <td>409</td>\n",
       "      <td>15.4</td>\n",
       "    </tr>\n",
       "    <tr>\n",
       "      <td>410</td>\n",
       "      <td>410</td>\n",
       "      <td>50.0</td>\n",
       "    </tr>\n",
       "    <tr>\n",
       "      <td>411</td>\n",
       "      <td>411</td>\n",
       "      <td>40.6</td>\n",
       "    </tr>\n",
       "    <tr>\n",
       "      <td>412</td>\n",
       "      <td>412</td>\n",
       "      <td>52.5</td>\n",
       "    </tr>\n",
       "    <tr>\n",
       "      <td>413</td>\n",
       "      <td>413</td>\n",
       "      <td>63.9</td>\n",
       "    </tr>\n",
       "  </tbody>\n",
       "</table>\n",
       "<p>414 rows × 2 columns</p>\n",
       "</div>"
      ],
      "text/plain": [
       "     index  Y house price of unit area\n",
       "0        0                        37.9\n",
       "1        1                        42.2\n",
       "2        2                        47.3\n",
       "3        3                        54.8\n",
       "4        4                        43.1\n",
       "..     ...                         ...\n",
       "409    409                        15.4\n",
       "410    410                        50.0\n",
       "411    411                        40.6\n",
       "412    412                        52.5\n",
       "413    413                        63.9\n",
       "\n",
       "[414 rows x 2 columns]"
      ]
     },
     "execution_count": 12,
     "metadata": {},
     "output_type": "execute_result"
    }
   ],
   "source": [
    "#features of y\n",
    "y=df['Y house price of unit area']\n",
    "y.reset_index()"
   ]
  },
  {
   "cell_type": "markdown",
   "metadata": {
    "id": "3BSeQwXJC4kX"
   },
   "source": [
    "### Split the dataset into train and test data"
   ]
  },
  {
   "cell_type": "code",
   "execution_count": 20,
   "metadata": {
    "id": "CihGqxw3C4kX",
    "scrolled": true
   },
   "outputs": [
    {
     "data": {
      "text/plain": [
       "108    34.1\n",
       "358    45.1\n",
       "169    23.5\n",
       "79     26.5\n",
       "392    35.3\n",
       "       ... \n",
       "255    17.4\n",
       "72     36.3\n",
       "396    31.9\n",
       "235    39.3\n",
       "37     25.3\n",
       "Name: Y house price of unit area, Length: 207, dtype: float64"
      ]
     },
     "execution_count": 20,
     "metadata": {},
     "output_type": "execute_result"
    }
   ],
   "source": [
    "#training model\n",
    "from sklearn.model_selection import  train_test_split \n",
    "train_X,test_X,train_y,test_y=train_test_split(X,y,train_size=0.5,test_size=0.5,random_state=1)\n",
    "train_y"
   ]
  },
  {
   "cell_type": "markdown",
   "metadata": {
    "id": "kOpd4B9sC4kY"
   },
   "source": [
    "### Choose the model (Linear Regression)"
   ]
  },
  {
   "cell_type": "code",
   "execution_count": 21,
   "metadata": {
    "id": "Pvsc7zdlC4kY"
   },
   "outputs": [],
   "source": [
    "#choosing model from scitclearn\n",
    "from sklearn.linear_model import LinearRegression\n"
   ]
  },
  {
   "cell_type": "markdown",
   "metadata": {
    "id": "ZSUC3ejuC4kY"
   },
   "source": [
    "### Create an Estimator object"
   ]
  },
  {
   "cell_type": "code",
   "execution_count": 23,
   "metadata": {
    "id": "nFMENzn1C4kZ"
   },
   "outputs": [],
   "source": [
    "#creating an estimator\n",
    "mymodel=LinearRegression(fit_intercept=True)"
   ]
  },
  {
   "cell_type": "markdown",
   "metadata": {
    "id": "x87OXEUnC4kZ"
   },
   "source": [
    "### Train the model"
   ]
  },
  {
   "cell_type": "code",
   "execution_count": 25,
   "metadata": {
    "id": "gLgU9sGyC4kZ"
   },
   "outputs": [
    {
     "data": {
      "text/plain": [
       "LinearRegression(copy_X=True, fit_intercept=True, n_jobs=None, normalize=False)"
      ]
     },
     "execution_count": 25,
     "metadata": {},
     "output_type": "execute_result"
    }
   ],
   "source": [
    "mymodel.fit(train_X,train_y)"
   ]
  },
  {
   "cell_type": "markdown",
   "metadata": {
    "id": "qtY33QdAC4kZ"
   },
   "source": [
    "### Apply the model"
   ]
  },
  {
   "cell_type": "code",
   "execution_count": 26,
   "metadata": {
    "id": "k2uOPjfQC4ka"
   },
   "outputs": [
    {
     "data": {
      "text/plain": [
       "array([32.95572811, 44.23016016, 23.15485799, 13.94468184, 39.29075093,\n",
       "       32.96334559, 30.54481072, 44.01564182, 36.61195396, 15.97291133,\n",
       "       14.65685527, 39.14116197, 31.88111381, 42.18076821, 48.79809683,\n",
       "       34.72933883, 40.29144955, 43.1236785 , 29.69271492, 43.34405002,\n",
       "       50.70367428, 28.83549012, 42.05529436, 44.94652864, 43.75381092,\n",
       "       28.43777823, 29.96488663, 44.39374578, 44.03605391, 15.81183578,\n",
       "       31.76286991, 36.44833713, 40.90228922, 42.44245182, 47.16626756,\n",
       "       13.81586984, 41.1048716 , 41.78882496, 36.94174743, 14.57557106,\n",
       "       40.99537625, 25.34312456, 51.37627721, 33.78118216, 33.0907289 ,\n",
       "       36.35758044, 30.19573826, 39.44720035, 45.41066091, 35.79251074,\n",
       "       12.82769704, 45.71691617, 46.46800573, 14.85467979, 46.6223405 ,\n",
       "       43.66578788, 40.29144955, 38.38014234, 36.6585192 , 38.64954512,\n",
       "       25.98619531, 37.82419231, 34.18809095, 13.81586984, 37.90433179,\n",
       "       46.61157189, 41.27691124, 45.69189292, 14.8672056 , 38.15821794,\n",
       "       45.92819557, 12.0983976 , 35.26942797, 38.108842  , 47.83497567,\n",
       "       37.91326403, 37.5635382 , 37.7367273 , 38.4417247 , 46.25846514,\n",
       "       43.65455656, 37.30918088, 47.52492895, 39.09383005, 42.1227457 ,\n",
       "       50.41315605, 45.65511593, 35.17330887, 50.5878471 , 16.84657114,\n",
       "       31.56742004, 47.75765817, 42.91265152, 30.74474282, 46.201309  ,\n",
       "       40.39475216, 27.85984314, 38.96925124, 47.52871182, 37.64141282,\n",
       "       34.08635956, 44.97563786, 29.45374812, 32.29328968, 39.21918878,\n",
       "       41.56396024, 46.24366505, 31.04005637, 40.23355755, 42.63196097,\n",
       "       46.04898939, 49.42498326, 49.08502132, 39.97109363, 30.23673245,\n",
       "       44.39611782, 45.90314394, 39.94489822, 40.00145398, 17.61674496,\n",
       "       44.60466399, 15.51062064, 36.18807504, 40.09919519, 43.88955355,\n",
       "       43.33380335, 43.73469475, 45.95128484, 44.34494961, 42.76354216,\n",
       "       36.94174743, 45.60025002, 44.84553599, 44.68957275, 44.5663949 ,\n",
       "       39.09771843, 40.60083908, 39.63771792, 42.09991157, 51.05657109,\n",
       "       34.79687694, 14.49384271, 41.26711256, 25.40272196, 41.65748034,\n",
       "       46.24366505, 35.62635095, 33.78118216, 45.56189675, 48.0938929 ,\n",
       "       44.33534794, 48.78320021, 39.97904479, 36.48099905, 45.95481652,\n",
       "       26.39172708, 32.31652389, 34.08992659, 36.60774291, 47.42542623,\n",
       "       43.97731927, 48.64307566, 45.75626093, 13.93215602, 45.07914438,\n",
       "       33.76865634, 51.37627721, 42.43109849, 42.14879082, 43.43507721,\n",
       "       44.39374578, 45.8680152 , 31.79572543, 28.49879437, 30.30860299,\n",
       "       43.71563798, 46.60742666, 38.163479  , 44.34309404, 45.21414415,\n",
       "       28.01791451, 52.14142911, 49.74944668, 46.59905354, 36.83548859,\n",
       "       44.48240304, 41.55054626, 22.29543011, 44.90663966, 41.4120519 ,\n",
       "       43.88791915, 46.4876223 , 44.29592461, 42.77468376, 37.06839852,\n",
       "       40.26460434, 31.07726142, 30.85012182, 16.83404532, 44.75698133,\n",
       "       41.52952973, 43.87781655, 42.6962749 , 44.59575995, 31.08097755,\n",
       "       46.19017006, 30.1888396 ])"
      ]
     },
     "execution_count": 26,
     "metadata": {},
     "output_type": "execute_result"
    }
   ],
   "source": [
    "#prediciting the data and possible outcome\n",
    "my_predictions=mymodel.predict(test_X)\n",
    "my_predictions"
   ]
  },
  {
   "cell_type": "markdown",
   "metadata": {
    "id": "QBd4C5FyC4ka"
   },
   "source": [
    "### Display the coefficients"
   ]
  },
  {
   "cell_type": "code",
   "execution_count": 8,
   "metadata": {
    "id": "AgpjoLmSC4ka"
   },
   "outputs": [
    {
     "ename": "NameError",
     "evalue": "name 'mypredictions' is not defined",
     "output_type": "error",
     "traceback": [
      "\u001b[1;31m---------------------------------------------------------------------------\u001b[0m",
      "\u001b[1;31mNameError\u001b[0m                                 Traceback (most recent call last)",
      "\u001b[1;32m<ipython-input-8-5c0b14828ed6>\u001b[0m in \u001b[0;36m<module>\u001b[1;34m\u001b[0m\n\u001b[1;32m----> 1\u001b[1;33m \u001b[0mmypredictions\u001b[0m\u001b[1;33m.\u001b[0m\u001b[0mcoef\u001b[0m\u001b[1;33m[\u001b[0m\u001b[1;33m(\u001b[0m\u001b[1;36m0\u001b[0m\u001b[1;33m)\u001b[0m\u001b[1;33m]\u001b[0m\u001b[1;33m\u001b[0m\u001b[1;33m\u001b[0m\u001b[0m\n\u001b[0m",
      "\u001b[1;31mNameError\u001b[0m: name 'mypredictions' is not defined"
     ]
    }
   ],
   "source": [
    "mypredictions.coef[(0)]"
   ]
  },
  {
   "cell_type": "markdown",
   "metadata": {
    "id": "kwgCOt-JC4ka"
   },
   "source": [
    "### Find how well the trained model did with testing data"
   ]
  },
  {
   "cell_type": "code",
   "execution_count": null,
   "metadata": {
    "id": "-WJ-wjmfC4kb"
   },
   "outputs": [],
   "source": []
  },
  {
   "cell_type": "markdown",
   "metadata": {
    "id": "_i_exihdC4kb"
   },
   "source": [
    "### Plot House Age Vs Price\n",
    "#### Hint: Use regplot in sns"
   ]
  },
  {
   "cell_type": "code",
   "execution_count": null,
   "metadata": {
    "id": "zmPf8iNjC4kb"
   },
   "outputs": [],
   "source": []
  },
  {
   "cell_type": "markdown",
   "metadata": {
    "id": "YfgvRihRC4kc"
   },
   "source": [
    "### Plot Distance to MRT station Vs Price"
   ]
  },
  {
   "cell_type": "code",
   "execution_count": null,
   "metadata": {
    "id": "430nnKUAC4kc",
    "scrolled": true
   },
   "outputs": [],
   "source": []
  },
  {
   "cell_type": "markdown",
   "metadata": {
    "id": "EUv4Gi4MC4kc"
   },
   "source": [
    "### Plot Number of Convienience Stores Vs Price"
   ]
  },
  {
   "cell_type": "code",
   "execution_count": null,
   "metadata": {
    "id": "6LhTvfsPC4kd"
   },
   "outputs": [],
   "source": []
  },
  {
   "cell_type": "code",
   "execution_count": null,
   "metadata": {
    "id": "mNycL5CoC4kd"
   },
   "outputs": [],
   "source": []
  }
 ],
 "metadata": {
  "colab": {
   "name": "lab2_Real Estate Price Prediction.ipynb",
   "provenance": []
  },
  "kernelspec": {
   "display_name": "Python 3",
   "language": "python",
   "name": "python3"
  },
  "language_info": {
   "codemirror_mode": {
    "name": "ipython",
    "version": 3
   },
   "file_extension": ".py",
   "mimetype": "text/x-python",
   "name": "python",
   "nbconvert_exporter": "python",
   "pygments_lexer": "ipython3",
   "version": "3.7.4"
  }
 },
 "nbformat": 4,
 "nbformat_minor": 1
}
